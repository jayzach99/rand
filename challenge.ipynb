{
 "cells": [
  {
   "cell_type": "code",
   "execution_count": 53,
   "metadata": {},
   "outputs": [],
   "source": [
    "import numpy as np\n",
    " \n",
    "# Solve\n",
    "def solve(x, y):\n",
    "    a = np.array([max(0, np.sign(x)), max(0,np.sign(y))]) * 2**np.array([0,1])\n",
    "    return np.sum(a)"
   ]
  },
  {
   "cell_type": "code",
   "execution_count": 54,
   "metadata": {},
   "outputs": [
    {
     "name": "stdout",
     "output_type": "stream",
     "text": [
      "(3,3) = 3\n",
      "(3,-3) = 1\n",
      "(-3,3) = 2\n",
      "(-3,-3) = 0\n"
     ]
    }
   ],
   "source": [
    "# Test\n",
    "x_list = [3,3,-3,-3]\n",
    "y_list = [3,-3,3,-3]\n",
    "\n",
    "for x, y in zip(x_list, y_list):\n",
    "    print(f'({x},{y}) = {solve(x,y)}')\n"
   ]
  }
 ],
 "metadata": {
  "kernelspec": {
   "display_name": "Python 3",
   "language": "python",
   "name": "python3"
  },
  "language_info": {
   "codemirror_mode": {
    "name": "ipython",
    "version": 3
   },
   "file_extension": ".py",
   "mimetype": "text/x-python",
   "name": "python",
   "nbconvert_exporter": "python",
   "pygments_lexer": "ipython3",
   "version": "3.7.4"
  }
 },
 "nbformat": 4,
 "nbformat_minor": 2
}
